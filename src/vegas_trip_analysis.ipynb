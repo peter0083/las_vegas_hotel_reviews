{
 "cells": [
  {
   "cell_type": "code",
   "execution_count": 36,
   "metadata": {},
   "outputs": [
    {
     "name": "stdout",
     "output_type": "stream",
     "text": [
      "3.5.3 |Anaconda 4.4.0 (x86_64)| (default, Mar  6 2017, 12:15:08) \n",
      "[GCC 4.2.1 Compatible Apple LLVM 6.0 (clang-600.0.57)]\n"
     ]
    }
   ],
   "source": [
    "import sys\n",
    "print(sys.version)"
   ]
  },
  {
   "cell_type": "code",
   "execution_count": 81,
   "metadata": {},
   "outputs": [],
   "source": [
    "# load dependencies\n",
    "import pandas as pd\n",
    "import io\n",
    "import requests\n",
    "import numpy as np\n",
    "from scipy import stats\n",
    "import matplotlib.pyplot as plt\n",
    "%matplotlib inline\n",
    "# reference: \n",
    "# https://stackoverflow.com/questions/32400867/pandas-read-csv-from-url"
   ]
  },
  {
   "cell_type": "markdown",
   "metadata": {},
   "source": [
    "### Table of Content\n",
    "1. [Goal of This Project](#section1)\n",
    "2. [Golden Rule of Machine Learning](#section2)\n",
    "3. [Exploratory Data Analysis](#section3)"
   ]
  },
  {
   "cell_type": "markdown",
   "metadata": {},
   "source": [
    "<a id=\"section1\"></a>\n",
    "### Goal of This Project\n",
    "\n",
    "I plan to go to Las Vegas with my undergrad buddies in June 2018. To ensure that we have a good time there, my goal is to find the best predictors that differentiate hotel scores based on user reviews. I will use my findings to book a hotel for our trip.\n",
    "\n",
    "Data Source: [UCI Machine Learning Repository: Las Vegas Strip Data Set](http://archive.ics.uci.edu/ml/datasets/Las+Vegas+Strip)"
   ]
  },
  {
   "cell_type": "markdown",
   "metadata": {},
   "source": [
    "<a id=\"section2\"></a>\n",
    "### Follow the \"Golden Rule of Machine Learning\"\n",
    "\n",
    "Retrieve the data set from the source and set a side some data instances as a test set. Even before I start looking at the data. "
   ]
  },
  {
   "cell_type": "code",
   "execution_count": 52,
   "metadata": {},
   "outputs": [
    {
     "data": {
      "text/html": [
       "<div>\n",
       "<style>\n",
       "    .dataframe thead tr:only-child th {\n",
       "        text-align: right;\n",
       "    }\n",
       "\n",
       "    .dataframe thead th {\n",
       "        text-align: left;\n",
       "    }\n",
       "\n",
       "    .dataframe tbody tr th {\n",
       "        vertical-align: top;\n",
       "    }\n",
       "</style>\n",
       "<table border=\"1\" class=\"dataframe\">\n",
       "  <thead>\n",
       "    <tr style=\"text-align: right;\">\n",
       "      <th></th>\n",
       "      <th>User country</th>\n",
       "      <th>Nr. reviews</th>\n",
       "      <th>Nr. hotel reviews</th>\n",
       "      <th>Helpful votes</th>\n",
       "      <th>Score</th>\n",
       "      <th>Period of stay</th>\n",
       "      <th>Traveler type</th>\n",
       "      <th>Pool</th>\n",
       "      <th>Gym</th>\n",
       "      <th>Tennis court</th>\n",
       "      <th>Spa</th>\n",
       "      <th>Casino</th>\n",
       "      <th>Free internet</th>\n",
       "      <th>Hotel name</th>\n",
       "      <th>Hotel stars</th>\n",
       "      <th>Nr. rooms</th>\n",
       "      <th>User continent</th>\n",
       "      <th>Member years</th>\n",
       "      <th>Review month</th>\n",
       "      <th>Review weekday</th>\n",
       "    </tr>\n",
       "  </thead>\n",
       "  <tbody>\n",
       "    <tr>\n",
       "      <th>0</th>\n",
       "      <td>USA</td>\n",
       "      <td>11</td>\n",
       "      <td>4</td>\n",
       "      <td>13</td>\n",
       "      <td>5</td>\n",
       "      <td>Dec-Feb</td>\n",
       "      <td>Friends</td>\n",
       "      <td>NO</td>\n",
       "      <td>YES</td>\n",
       "      <td>NO</td>\n",
       "      <td>NO</td>\n",
       "      <td>YES</td>\n",
       "      <td>YES</td>\n",
       "      <td>Circus Circus Hotel &amp; Casino Las Vegas</td>\n",
       "      <td>3</td>\n",
       "      <td>3773</td>\n",
       "      <td>North America</td>\n",
       "      <td>9</td>\n",
       "      <td>January</td>\n",
       "      <td>Thursday</td>\n",
       "    </tr>\n",
       "    <tr>\n",
       "      <th>1</th>\n",
       "      <td>USA</td>\n",
       "      <td>119</td>\n",
       "      <td>21</td>\n",
       "      <td>75</td>\n",
       "      <td>3</td>\n",
       "      <td>Dec-Feb</td>\n",
       "      <td>Business</td>\n",
       "      <td>NO</td>\n",
       "      <td>YES</td>\n",
       "      <td>NO</td>\n",
       "      <td>NO</td>\n",
       "      <td>YES</td>\n",
       "      <td>YES</td>\n",
       "      <td>Circus Circus Hotel &amp; Casino Las Vegas</td>\n",
       "      <td>3</td>\n",
       "      <td>3773</td>\n",
       "      <td>North America</td>\n",
       "      <td>3</td>\n",
       "      <td>January</td>\n",
       "      <td>Friday</td>\n",
       "    </tr>\n",
       "  </tbody>\n",
       "</table>\n",
       "</div>"
      ],
      "text/plain": [
       "  User country  Nr. reviews  Nr. hotel reviews  Helpful votes  Score  \\\n",
       "0          USA           11                  4             13      5   \n",
       "1          USA          119                 21             75      3   \n",
       "\n",
       "  Period of stay Traveler type Pool  Gym Tennis court Spa Casino  \\\n",
       "0        Dec-Feb       Friends   NO  YES           NO  NO    YES   \n",
       "1        Dec-Feb      Business   NO  YES           NO  NO    YES   \n",
       "\n",
       "  Free internet                              Hotel name Hotel stars  \\\n",
       "0           YES  Circus Circus Hotel & Casino Las Vegas           3   \n",
       "1           YES  Circus Circus Hotel & Casino Las Vegas           3   \n",
       "\n",
       "   Nr. rooms User continent  Member years Review month Review weekday  \n",
       "0       3773  North America             9      January       Thursday  \n",
       "1       3773  North America             3      January         Friday  "
      ]
     },
     "execution_count": 52,
     "metadata": {},
     "output_type": "execute_result"
    }
   ],
   "source": [
    "# load the data\n",
    "url = \"http://archive.ics.uci.edu/ml/machine-learning-databases/00397/LasVegasTripAdvisorReviews-Dataset.csv\"\n",
    "raw_dataframe = pd.read_csv(url, delimiter=';')\n",
    "# reference:\n",
    "# https://stackoverflow.com/questions/32400867/pandas-read-csv-from-url/41880513#41880513\n",
    "\n",
    "# view the first 2 rows of raw data frame\n",
    "raw_dataframe.head(2)"
   ]
  },
  {
   "cell_type": "code",
   "execution_count": 71,
   "metadata": {},
   "outputs": [],
   "source": [
    "# convert data frame to numpy array\n",
    "raw_data = raw_dataframe.values\n",
    "\n",
    "# shuffle the array (in case it is sorted)\n",
    "np.random.seed(123)\n",
    "np.random.shuffle(raw_data)\n",
    "\n",
    "# split 2 sets\n",
    "training_set = raw_data[:336]\n",
    "test_set = raw_data[336:]\n",
    "\n",
    "# take out the \"score\" label\n",
    "# reference:\n",
    "# https://stackoverflow.com/questions/8386675/extracting-specific-columns-in-numpy-array\n",
    "training_label = training_set[:, [4]].flatten()\n",
    "test_label = test_set[:, [4]].flatten()\n",
    "\n",
    "X = np.delete(training_set, 4, 1)\n",
    "Xtest = np.delete(test_set, 4, 1)"
   ]
  },
  {
   "cell_type": "code",
   "execution_count": 54,
   "metadata": {},
   "outputs": [
    {
     "data": {
      "text/plain": [
       "(336, 20)"
      ]
     },
     "execution_count": 54,
     "metadata": {},
     "output_type": "execute_result"
    }
   ],
   "source": [
    "# inspect the dimensions\n",
    "training_set.shape"
   ]
  },
  {
   "cell_type": "code",
   "execution_count": 72,
   "metadata": {},
   "outputs": [
    {
     "data": {
      "text/plain": [
       "(336,)"
      ]
     },
     "execution_count": 72,
     "metadata": {},
     "output_type": "execute_result"
    }
   ],
   "source": [
    "training_label.shape"
   ]
  },
  {
   "cell_type": "markdown",
   "metadata": {},
   "source": [
    "<a id=\"section1\"></a>\n",
    "### Exploratory data analysis"
   ]
  },
  {
   "cell_type": "markdown",
   "metadata": {},
   "source": [
    "I should learn more about the data set then start my feature selection with a deeper understanding of the data set."
   ]
  },
  {
   "cell_type": "code",
   "execution_count": 84,
   "metadata": {},
   "outputs": [
    {
     "name": "stdout",
     "output_type": "stream",
     "text": [
      "<class 'pandas.core.frame.DataFrame'>\n",
      "RangeIndex: 504 entries, 0 to 503\n",
      "Data columns (total 20 columns):\n",
      "User country         504 non-null object\n",
      "Nr. reviews          504 non-null int64\n",
      "Nr. hotel reviews    504 non-null int64\n",
      "Helpful votes        504 non-null int64\n",
      "Score                504 non-null int64\n",
      "Period of stay       504 non-null object\n",
      "Traveler type        504 non-null object\n",
      "Pool                 504 non-null object\n",
      "Gym                  504 non-null object\n",
      "Tennis court         504 non-null object\n",
      "Spa                  504 non-null object\n",
      "Casino               504 non-null object\n",
      "Free internet        504 non-null object\n",
      "Hotel name           504 non-null object\n",
      "Hotel stars          504 non-null object\n",
      "Nr. rooms            504 non-null int64\n",
      "User continent       504 non-null object\n",
      "Member years         504 non-null int64\n",
      "Review month         504 non-null object\n",
      "Review weekday       504 non-null object\n",
      "dtypes: int64(6), object(14)\n",
      "memory usage: 78.8+ KB\n"
     ]
    }
   ],
   "source": [
    "# quick summary of the raw data\n",
    "raw_dataframe.info()\n",
    "\n",
    "# reference: \n",
    "# https://github.com/ubcs3/2017-Fall/blob/master/notes-2017-10-06/notes-2017-10-06.ipynb"
   ]
  },
  {
   "cell_type": "code",
   "execution_count": 92,
   "metadata": {},
   "outputs": [
    {
     "data": {
      "text/plain": [
       "21"
      ]
     },
     "execution_count": 92,
     "metadata": {},
     "output_type": "execute_result"
    }
   ],
   "source": [
    "# count how many different hotels are there\n",
    "np.count_nonzero(np.unique(training_set[:,13]))"
   ]
  },
  {
   "cell_type": "markdown",
   "metadata": {},
   "source": [
    "> A total of 21 hotels are reviewed."
   ]
  },
  {
   "cell_type": "code",
   "execution_count": 91,
   "metadata": {},
   "outputs": [
    {
     "data": {
      "text/plain": [
       "array(['Bellagio Las Vegas', 'Caesars Palace',\n",
       "       'Circus Circus Hotel & Casino Las Vegas',\n",
       "       'Encore at wynn Las Vegas', 'Excalibur Hotel & Casino',\n",
       "       'Hilton Grand Vacations at the Flamingo',\n",
       "       'Hilton Grand Vacations on the Boulevard',\n",
       "       \"Marriott's Grand Chateau\", 'Monte Carlo Resort&Casino',\n",
       "       'Paris Las Vegas', 'The Cosmopolitan Las Vegas', 'The Cromwell',\n",
       "       'The Palazzo Resort Hotel Casino', 'The Venetian Las Vegas Hotel',\n",
       "       'The Westin las Vegas Hotel Casino & Spa',\n",
       "       'Treasure Island- TI Hotel & Casino',\n",
       "       'Tropicana Las Vegas - A Double Tree by Hilton Hotel',\n",
       "       'Trump International Hotel Las Vegas',\n",
       "       'Tuscany Las Vegas Suites & Casino', 'Wyndham Grand Desert',\n",
       "       'Wynn Las Vegas'], dtype=object)"
      ]
     },
     "execution_count": 91,
     "metadata": {},
     "output_type": "execute_result"
    }
   ],
   "source": [
    "# list the names of hotels in the data set\n",
    "np.unique(training_set[:,13])"
   ]
  },
  {
   "cell_type": "code",
   "execution_count": 97,
   "metadata": {},
   "outputs": [
    {
     "data": {
      "text/plain": [
       "['User country',\n",
       " 'Nr. reviews',\n",
       " 'Nr. hotel reviews',\n",
       " 'Helpful votes',\n",
       " 'Score',\n",
       " 'Period of stay',\n",
       " 'Traveler type',\n",
       " 'Pool',\n",
       " 'Gym',\n",
       " 'Tennis court',\n",
       " 'Spa',\n",
       " 'Casino',\n",
       " 'Free internet',\n",
       " 'Hotel name',\n",
       " 'Hotel stars',\n",
       " 'Nr. rooms',\n",
       " 'User continent',\n",
       " 'Member years',\n",
       " 'Review month',\n",
       " 'Review weekday']"
      ]
     },
     "execution_count": 97,
     "metadata": {},
     "output_type": "execute_result"
    }
   ],
   "source": [
    "list(raw_dataframe)"
   ]
  },
  {
   "cell_type": "code",
   "execution_count": 106,
   "metadata": {},
   "outputs": [],
   "source": [
    "# convert training set to pandas data frame\n",
    "training_set_df = pd.DataFrame(training_set)\n",
    "\n",
    "# restore column names\n",
    "training_set_df = training_set_df.rename(index=int, columns={0:'User country', 1:'Nr. reviews', 2:'Nr. hotel reviews', 3:'Helpful votes', 4:'Score', \n",
    "                                           5:'Period of stay', 6:'Traveler type', 7:'Pool', 8:'Gym', 9:'Tennis court', 10:'Spa', 11:'Casino',\n",
    " 12:'Free internet', 13:'Hotel name', 14:'Hotel stars', 15:'Nr. rooms', 16:'User continent', 17:'Member years', 18:'Review month', 19:'Review weekday'})"
   ]
  },
  {
   "cell_type": "code",
   "execution_count": 120,
   "metadata": {
    "scrolled": false
   },
   "outputs": [
    {
     "data": {
      "text/html": [
       "<div>\n",
       "<style>\n",
       "    .dataframe thead tr:only-child th {\n",
       "        text-align: right;\n",
       "    }\n",
       "\n",
       "    .dataframe thead th {\n",
       "        text-align: left;\n",
       "    }\n",
       "\n",
       "    .dataframe tbody tr th {\n",
       "        vertical-align: top;\n",
       "    }\n",
       "</style>\n",
       "<table border=\"1\" class=\"dataframe\">\n",
       "  <thead>\n",
       "    <tr style=\"text-align: right;\">\n",
       "      <th></th>\n",
       "      <th>Nr. reviews</th>\n",
       "      <th>Nr. hotel reviews</th>\n",
       "      <th>Helpful votes</th>\n",
       "      <th>Score</th>\n",
       "    </tr>\n",
       "    <tr>\n",
       "      <th>Hotel name</th>\n",
       "      <th></th>\n",
       "      <th></th>\n",
       "      <th></th>\n",
       "      <th></th>\n",
       "    </tr>\n",
       "  </thead>\n",
       "  <tbody>\n",
       "    <tr>\n",
       "      <th>Bellagio Las Vegas</th>\n",
       "      <td>457</td>\n",
       "      <td>167</td>\n",
       "      <td>437</td>\n",
       "      <td>81</td>\n",
       "    </tr>\n",
       "    <tr>\n",
       "      <th>Caesars Palace</th>\n",
       "      <td>637</td>\n",
       "      <td>216</td>\n",
       "      <td>446</td>\n",
       "      <td>65</td>\n",
       "    </tr>\n",
       "    <tr>\n",
       "      <th>Circus Circus Hotel &amp; Casino Las Vegas</th>\n",
       "      <td>447</td>\n",
       "      <td>124</td>\n",
       "      <td>293</td>\n",
       "      <td>50</td>\n",
       "    </tr>\n",
       "    <tr>\n",
       "      <th>Encore at wynn Las Vegas</th>\n",
       "      <td>1108</td>\n",
       "      <td>288</td>\n",
       "      <td>637</td>\n",
       "      <td>83</td>\n",
       "    </tr>\n",
       "    <tr>\n",
       "      <th>Excalibur Hotel &amp; Casino</th>\n",
       "      <td>629</td>\n",
       "      <td>388</td>\n",
       "      <td>526</td>\n",
       "      <td>63</td>\n",
       "    </tr>\n",
       "    <tr>\n",
       "      <th>Hilton Grand Vacations at the Flamingo</th>\n",
       "      <td>597</td>\n",
       "      <td>210</td>\n",
       "      <td>255</td>\n",
       "      <td>58</td>\n",
       "    </tr>\n",
       "    <tr>\n",
       "      <th>Hilton Grand Vacations on the Boulevard</th>\n",
       "      <td>467</td>\n",
       "      <td>191</td>\n",
       "      <td>291</td>\n",
       "      <td>54</td>\n",
       "    </tr>\n",
       "    <tr>\n",
       "      <th>Marriott's Grand Chateau</th>\n",
       "      <td>1239</td>\n",
       "      <td>443</td>\n",
       "      <td>886</td>\n",
       "      <td>54</td>\n",
       "    </tr>\n",
       "    <tr>\n",
       "      <th>Monte Carlo Resort&amp;Casino</th>\n",
       "      <td>1356</td>\n",
       "      <td>213</td>\n",
       "      <td>699</td>\n",
       "      <td>44</td>\n",
       "    </tr>\n",
       "    <tr>\n",
       "      <th>Paris Las Vegas</th>\n",
       "      <td>734</td>\n",
       "      <td>180</td>\n",
       "      <td>368</td>\n",
       "      <td>54</td>\n",
       "    </tr>\n",
       "    <tr>\n",
       "      <th>The Cosmopolitan Las Vegas</th>\n",
       "      <td>663</td>\n",
       "      <td>175</td>\n",
       "      <td>506</td>\n",
       "      <td>84</td>\n",
       "    </tr>\n",
       "    <tr>\n",
       "      <th>The Cromwell</th>\n",
       "      <td>1024</td>\n",
       "      <td>323</td>\n",
       "      <td>753</td>\n",
       "      <td>51</td>\n",
       "    </tr>\n",
       "    <tr>\n",
       "      <th>The Palazzo Resort Hotel Casino</th>\n",
       "      <td>914</td>\n",
       "      <td>314</td>\n",
       "      <td>663</td>\n",
       "      <td>84</td>\n",
       "    </tr>\n",
       "    <tr>\n",
       "      <th>The Venetian Las Vegas Hotel</th>\n",
       "      <td>710</td>\n",
       "      <td>284</td>\n",
       "      <td>529</td>\n",
       "      <td>86</td>\n",
       "    </tr>\n",
       "    <tr>\n",
       "      <th>The Westin las Vegas Hotel Casino &amp; Spa</th>\n",
       "      <td>632</td>\n",
       "      <td>275</td>\n",
       "      <td>454</td>\n",
       "      <td>71</td>\n",
       "    </tr>\n",
       "    <tr>\n",
       "      <th>Treasure Island- TI Hotel &amp; Casino</th>\n",
       "      <td>369</td>\n",
       "      <td>154</td>\n",
       "      <td>396</td>\n",
       "      <td>63</td>\n",
       "    </tr>\n",
       "    <tr>\n",
       "      <th>Tropicana Las Vegas - A Double Tree by Hilton Hotel</th>\n",
       "      <td>292</td>\n",
       "      <td>153</td>\n",
       "      <td>235</td>\n",
       "      <td>51</td>\n",
       "    </tr>\n",
       "    <tr>\n",
       "      <th>Trump International Hotel Las Vegas</th>\n",
       "      <td>1513</td>\n",
       "      <td>303</td>\n",
       "      <td>619</td>\n",
       "      <td>87</td>\n",
       "    </tr>\n",
       "    <tr>\n",
       "      <th>Tuscany Las Vegas Suites &amp; Casino</th>\n",
       "      <td>729</td>\n",
       "      <td>259</td>\n",
       "      <td>426</td>\n",
       "      <td>48</td>\n",
       "    </tr>\n",
       "    <tr>\n",
       "      <th>Wyndham Grand Desert</th>\n",
       "      <td>1415</td>\n",
       "      <td>370</td>\n",
       "      <td>737</td>\n",
       "      <td>77</td>\n",
       "    </tr>\n",
       "    <tr>\n",
       "      <th>Wynn Las Vegas</th>\n",
       "      <td>623</td>\n",
       "      <td>213</td>\n",
       "      <td>718</td>\n",
       "      <td>79</td>\n",
       "    </tr>\n",
       "  </tbody>\n",
       "</table>\n",
       "</div>"
      ],
      "text/plain": [
       "                                                    Nr. reviews  \\\n",
       "Hotel name                                                        \n",
       "Bellagio Las Vegas                                          457   \n",
       "Caesars Palace                                              637   \n",
       "Circus Circus Hotel & Casino Las Vegas                      447   \n",
       "Encore at wynn Las Vegas                                   1108   \n",
       "Excalibur Hotel & Casino                                    629   \n",
       "Hilton Grand Vacations at the Flamingo                      597   \n",
       "Hilton Grand Vacations on the Boulevard                     467   \n",
       "Marriott's Grand Chateau                                   1239   \n",
       "Monte Carlo Resort&Casino                                  1356   \n",
       "Paris Las Vegas                                             734   \n",
       "The Cosmopolitan Las Vegas                                  663   \n",
       "The Cromwell                                               1024   \n",
       "The Palazzo Resort Hotel Casino                             914   \n",
       "The Venetian Las Vegas Hotel                                710   \n",
       "The Westin las Vegas Hotel Casino & Spa                     632   \n",
       "Treasure Island- TI Hotel & Casino                          369   \n",
       "Tropicana Las Vegas - A Double Tree by Hilton H...          292   \n",
       "Trump International Hotel Las Vegas                        1513   \n",
       "Tuscany Las Vegas Suites & Casino                           729   \n",
       "Wyndham Grand Desert                                       1415   \n",
       "Wynn Las Vegas                                              623   \n",
       "\n",
       "                                                    Nr. hotel reviews  \\\n",
       "Hotel name                                                              \n",
       "Bellagio Las Vegas                                                167   \n",
       "Caesars Palace                                                    216   \n",
       "Circus Circus Hotel & Casino Las Vegas                            124   \n",
       "Encore at wynn Las Vegas                                          288   \n",
       "Excalibur Hotel & Casino                                          388   \n",
       "Hilton Grand Vacations at the Flamingo                            210   \n",
       "Hilton Grand Vacations on the Boulevard                           191   \n",
       "Marriott's Grand Chateau                                          443   \n",
       "Monte Carlo Resort&Casino                                         213   \n",
       "Paris Las Vegas                                                   180   \n",
       "The Cosmopolitan Las Vegas                                        175   \n",
       "The Cromwell                                                      323   \n",
       "The Palazzo Resort Hotel Casino                                   314   \n",
       "The Venetian Las Vegas Hotel                                      284   \n",
       "The Westin las Vegas Hotel Casino & Spa                           275   \n",
       "Treasure Island- TI Hotel & Casino                                154   \n",
       "Tropicana Las Vegas - A Double Tree by Hilton H...                153   \n",
       "Trump International Hotel Las Vegas                               303   \n",
       "Tuscany Las Vegas Suites & Casino                                 259   \n",
       "Wyndham Grand Desert                                              370   \n",
       "Wynn Las Vegas                                                    213   \n",
       "\n",
       "                                                    Helpful votes  Score  \n",
       "Hotel name                                                                \n",
       "Bellagio Las Vegas                                            437     81  \n",
       "Caesars Palace                                                446     65  \n",
       "Circus Circus Hotel & Casino Las Vegas                        293     50  \n",
       "Encore at wynn Las Vegas                                      637     83  \n",
       "Excalibur Hotel & Casino                                      526     63  \n",
       "Hilton Grand Vacations at the Flamingo                        255     58  \n",
       "Hilton Grand Vacations on the Boulevard                       291     54  \n",
       "Marriott's Grand Chateau                                      886     54  \n",
       "Monte Carlo Resort&Casino                                     699     44  \n",
       "Paris Las Vegas                                               368     54  \n",
       "The Cosmopolitan Las Vegas                                    506     84  \n",
       "The Cromwell                                                  753     51  \n",
       "The Palazzo Resort Hotel Casino                               663     84  \n",
       "The Venetian Las Vegas Hotel                                  529     86  \n",
       "The Westin las Vegas Hotel Casino & Spa                       454     71  \n",
       "Treasure Island- TI Hotel & Casino                            396     63  \n",
       "Tropicana Las Vegas - A Double Tree by Hilton H...            235     51  \n",
       "Trump International Hotel Las Vegas                           619     87  \n",
       "Tuscany Las Vegas Suites & Casino                             426     48  \n",
       "Wyndham Grand Desert                                          737     77  \n",
       "Wynn Las Vegas                                                718     79  "
      ]
     },
     "execution_count": 120,
     "metadata": {},
     "output_type": "execute_result"
    }
   ],
   "source": [
    "training_set_df.groupby('Hotel name').sum()[[\"Nr. reviews\", \"Nr. hotel reviews\", \"Helpful votes\", \"Score\"]]"
   ]
  },
  {
   "cell_type": "markdown",
   "metadata": {},
   "source": [
    "> Looking at the sum of reviews and scores, I realize that there is a big gap between the highest-rated hotel and the lowest."
   ]
  },
  {
   "cell_type": "code",
   "execution_count": 118,
   "metadata": {},
   "outputs": [
    {
     "data": {
      "image/png": "[encoded data removed]",
      "text/plain": [
       "<matplotlib.figure.Figure at 0x1147c3518>"
      ]
     },
     "metadata": {},
     "output_type": "display_data"
    }
   ],
   "source": [
    "training_set_df.plot.hist(y=\"Score\", bins=30, normed=True)\n",
    "plt.show()"
   ]
  },
  {
   "cell_type": "markdown",
   "metadata": {},
   "source": [
    "> Most hotels seem to be in the 5.0 range."
   ]
  },
  {
   "cell_type": "code",
   "execution_count": 122,
   "metadata": {},
   "outputs": [
    {
     "data": {
      "image/png": "[encoded data removed]",
      "text/plain": [
       "<matplotlib.figure.Figure at 0x114879940>"
      ]
     },
     "metadata": {},
     "output_type": "display_data"
    }
   ],
   "source": [
    "training_set_df.groupby(\"Hotel name\").sum().plot.bar(y=\"Score\")\n",
    "plt.show()"
   ]
  },
  {
   "cell_type": "code",
   "execution_count": null,
   "metadata": {
    "collapsed": true
   },
   "outputs": [],
   "source": []
  }
 ],
 "metadata": {
  "kernelspec": {
   "display_name": "Python [default]",
   "language": "python",
   "name": "python3"
  },
  "language_info": {
   "codemirror_mode": {
    "name": "ipython",
    "version": 3
   },
   "file_extension": ".py",
   "mimetype": "text/x-python",
   "name": "python",
   "nbconvert_exporter": "python",
   "pygments_lexer": "ipython3",
   "version": "3.5.3"
  }
 },
 "nbformat": 4,
 "nbformat_minor": 2
}
